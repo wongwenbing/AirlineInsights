{
 "cells": [
  {
   "attachments": {},
   "cell_type": "markdown",
   "metadata": {},
   "source": [
    "```Name: Wong Wen Bing```    \n",
    "```Admin #: 230436M```  \n",
    "```PEM GROUP: AA2303```\n",
    "\n",
    "# **Part 2: Data Preparation and Understanding Notebook (2/3)** \n",
    "This part will comprise of the data understanding, data pre-processing and creating additional features through the cleaning the textual data. "
   ]
  },
  {
   "attachments": {},
   "cell_type": "markdown",
   "metadata": {},
   "source": [
    "### **Install and Import Libraries**"
   ]
  },
  {
   "cell_type": "code",
   "execution_count": 1,
   "metadata": {},
   "outputs": [
    {
     "name": "stdout",
     "output_type": "stream",
     "text": [
      "Defaulting to user installation because normal site-packages is not writeable\n",
      "Requirement already satisfied: pandas in c:\\users\\wongw\\appdata\\roaming\\python\\python311\\site-packages (2.1.1)\n",
      "Requirement already satisfied: nltk in c:\\users\\wongw\\appdata\\roaming\\python\\python311\\site-packages (3.8.1)\n",
      "Requirement already satisfied: seaborn in c:\\programdata\\anaconda3\\lib\\site-packages (0.12.2)\n",
      "Requirement already satisfied: matplotlib in c:\\users\\wongw\\appdata\\roaming\\python\\python311\\site-packages (3.8.0)\n",
      "Requirement already satisfied: tqdm in c:\\users\\wongw\\appdata\\roaming\\python\\python311\\site-packages (4.66.1)\n",
      "Requirement already satisfied: scikit-learn in c:\\users\\wongw\\appdata\\roaming\\python\\python311\\site-packages (1.3.1)\n",
      "Collecting textblob\n",
      "  Downloading textblob-0.19.0-py3-none-any.whl.metadata (4.4 kB)\n",
      "Requirement already satisfied: numpy>=1.23.2 in c:\\programdata\\anaconda3\\lib\\site-packages (from pandas) (1.26.4)\n",
      "Requirement already satisfied: python-dateutil>=2.8.2 in c:\\users\\wongw\\appdata\\roaming\\python\\python311\\site-packages (from pandas) (2.8.2)\n",
      "Requirement already satisfied: pytz>=2020.1 in c:\\users\\wongw\\appdata\\roaming\\python\\python311\\site-packages (from pandas) (2023.3.post1)\n",
      "Requirement already satisfied: tzdata>=2022.1 in c:\\users\\wongw\\appdata\\roaming\\python\\python311\\site-packages (from pandas) (2023.3)\n",
      "Requirement already satisfied: click in c:\\users\\wongw\\appdata\\roaming\\python\\python311\\site-packages (from nltk) (8.1.7)\n",
      "Requirement already satisfied: joblib in c:\\users\\wongw\\appdata\\roaming\\python\\python311\\site-packages (from nltk) (1.3.2)\n",
      "Requirement already satisfied: regex>=2021.8.3 in c:\\users\\wongw\\appdata\\roaming\\python\\python311\\site-packages (from nltk) (2023.10.3)\n",
      "Requirement already satisfied: contourpy>=1.0.1 in c:\\users\\wongw\\appdata\\roaming\\python\\python311\\site-packages (from matplotlib) (1.1.1)\n",
      "Requirement already satisfied: cycler>=0.10 in c:\\users\\wongw\\appdata\\roaming\\python\\python311\\site-packages (from matplotlib) (0.12.0)\n",
      "Requirement already satisfied: fonttools>=4.22.0 in c:\\users\\wongw\\appdata\\roaming\\python\\python311\\site-packages (from matplotlib) (4.42.1)\n",
      "Requirement already satisfied: kiwisolver>=1.0.1 in c:\\users\\wongw\\appdata\\roaming\\python\\python311\\site-packages (from matplotlib) (1.4.5)\n",
      "Requirement already satisfied: packaging>=20.0 in c:\\users\\wongw\\appdata\\roaming\\python\\python311\\site-packages (from matplotlib) (23.1)\n",
      "Requirement already satisfied: pillow>=6.2.0 in c:\\users\\wongw\\appdata\\roaming\\python\\python311\\site-packages (from matplotlib) (10.0.1)\n",
      "Requirement already satisfied: pyparsing>=2.3.1 in c:\\users\\wongw\\appdata\\roaming\\python\\python311\\site-packages (from matplotlib) (3.1.1)\n",
      "Requirement already satisfied: colorama in c:\\users\\wongw\\appdata\\roaming\\python\\python311\\site-packages (from tqdm) (0.4.6)\n",
      "Requirement already satisfied: scipy>=1.5.0 in c:\\users\\wongw\\appdata\\roaming\\python\\python311\\site-packages (from scikit-learn) (1.11.3)\n",
      "Requirement already satisfied: threadpoolctl>=2.0.0 in c:\\users\\wongw\\appdata\\roaming\\python\\python311\\site-packages (from scikit-learn) (3.2.0)\n",
      "Collecting nltk\n",
      "  Using cached nltk-3.9.1-py3-none-any.whl.metadata (2.9 kB)\n",
      "Requirement already satisfied: six>=1.5 in c:\\users\\wongw\\appdata\\roaming\\python\\python311\\site-packages (from python-dateutil>=2.8.2->pandas) (1.16.0)\n",
      "Downloading textblob-0.19.0-py3-none-any.whl (624 kB)\n",
      "   ---------------------------------------- 0.0/624.3 kB ? eta -:--:--\n",
      "   ---------------------------------------- 0.0/624.3 kB ? eta -:--:--\n",
      "    --------------------------------------- 10.2/624.3 kB ? eta -:--:--\n",
      "   - ------------------------------------- 20.5/624.3 kB 165.2 kB/s eta 0:00:04\n",
      "   - ------------------------------------- 30.7/624.3 kB 187.9 kB/s eta 0:00:04\n",
      "   -- ------------------------------------ 41.0/624.3 kB 178.6 kB/s eta 0:00:04\n",
      "   --- ----------------------------------- 61.4/624.3 kB 252.2 kB/s eta 0:00:03\n",
      "   ------ ------------------------------- 102.4/624.3 kB 368.6 kB/s eta 0:00:02\n",
      "   ------------------------- -------------- 399.4/624.3 kB 1.3 MB/s eta 0:00:01\n",
      "   ---------------------------------------- 624.3/624.3 kB 1.9 MB/s eta 0:00:00\n",
      "Using cached nltk-3.9.1-py3-none-any.whl (1.5 MB)\n",
      "Installing collected packages: nltk, textblob\n",
      "  Attempting uninstall: nltk\n",
      "    Found existing installation: nltk 3.8.1\n",
      "    Uninstalling nltk-3.8.1:\n",
      "      Successfully uninstalled nltk-3.8.1\n",
      "Successfully installed nltk-3.9.1 textblob-0.19.0\n",
      "Note: you may need to restart the kernel to use updated packages.\n"
     ]
    },
    {
     "name": "stderr",
     "output_type": "stream",
     "text": [
      "  WARNING: The script nltk.exe is installed in 'C:\\Users\\wongw\\AppData\\Roaming\\Python\\Python311\\Scripts' which is not on PATH.\n",
      "  Consider adding this directory to PATH or, if you prefer to suppress this warning, use --no-warn-script-location.\n",
      "\n",
      "[notice] A new release of pip is available: 24.0 -> 25.0.1\n",
      "[notice] To update, run: python.exe -m pip install --upgrade pip\n"
     ]
    }
   ],
   "source": [
    "pip install pandas nltk seaborn matplotlib tqdm scikit-learn textblob"
   ]
  },
  {
   "cell_type": "code",
   "execution_count": 2,
   "metadata": {},
   "outputs": [],
   "source": [
    "import pandas as pd\n",
    "import nltk\n",
    "import seaborn as sns\n",
    "import matplotlib.pyplot as plt\n",
    "from nltk.corpus import stopwords\n",
    "from nltk.stem.wordnet import WordNetLemmatizer\n",
    "import re\n",
    "from nltk.tokenize import word_tokenize\n",
    "from tqdm import tqdm\n",
    "from sklearn.pipeline import Pipeline\n",
    "from sklearn.preprocessing import FunctionTransformer, LabelEncoder\n",
    "import string\n",
    "from textblob import TextBlob\n",
    "import dill \n",
    "import pickle "
   ]
  },
  {
   "attachments": {},
   "cell_type": "markdown",
   "metadata": {},
   "source": [
    "Load Data"
   ]
  },
  {
   "cell_type": "code",
   "execution_count": 3,
   "metadata": {},
   "outputs": [],
   "source": [
    "dataset=pd.read_csv('train_set.csv')"
   ]
  },
  {
   "cell_type": "code",
   "execution_count": 4,
   "metadata": {},
   "outputs": [
    {
     "data": {
      "text/html": [
       "<div>\n",
       "<style scoped>\n",
       "    .dataframe tbody tr th:only-of-type {\n",
       "        vertical-align: middle;\n",
       "    }\n",
       "\n",
       "    .dataframe tbody tr th {\n",
       "        vertical-align: top;\n",
       "    }\n",
       "\n",
       "    .dataframe thead th {\n",
       "        text-align: right;\n",
       "    }\n",
       "</style>\n",
       "<table border=\"1\" class=\"dataframe\">\n",
       "  <thead>\n",
       "    <tr style=\"text-align: right;\">\n",
       "      <th></th>\n",
       "      <th>Unnamed: 0</th>\n",
       "      <th>content</th>\n",
       "      <th>rating</th>\n",
       "      <th>airline</th>\n",
       "    </tr>\n",
       "  </thead>\n",
       "  <tbody>\n",
       "    <tr>\n",
       "      <th>0</th>\n",
       "      <td>0</td>\n",
       "      <td>Southwest's Boarding Process has gotten comple...</td>\n",
       "      <td>3.0</td>\n",
       "      <td>Southwest Airlines</td>\n",
       "    </tr>\n",
       "    <tr>\n",
       "      <th>1</th>\n",
       "      <td>1</td>\n",
       "      <td>Flew Sydney to Auckland in January 2017 with t...</td>\n",
       "      <td>5.0</td>\n",
       "      <td>Emirates</td>\n",
       "    </tr>\n",
       "    <tr>\n",
       "      <th>2</th>\n",
       "      <td>2</td>\n",
       "      <td>NEVER fly with scoot. I booked a ticket almost...</td>\n",
       "      <td>1.0</td>\n",
       "      <td>Scoot</td>\n",
       "    </tr>\n",
       "    <tr>\n",
       "      <th>3</th>\n",
       "      <td>3</td>\n",
       "      <td>✅ Trip Verified |  Melbourne to London return ...</td>\n",
       "      <td>3.0</td>\n",
       "      <td>Singapore Airlines</td>\n",
       "    </tr>\n",
       "    <tr>\n",
       "      <th>4</th>\n",
       "      <td>4</td>\n",
       "      <td>MAD-DXB-SYD economy. A380 great seats B777 imp...</td>\n",
       "      <td>3.0</td>\n",
       "      <td>Emirates</td>\n",
       "    </tr>\n",
       "  </tbody>\n",
       "</table>\n",
       "</div>"
      ],
      "text/plain": [
       "   Unnamed: 0                                            content  rating  \\\n",
       "0           0  Southwest's Boarding Process has gotten comple...     3.0   \n",
       "1           1  Flew Sydney to Auckland in January 2017 with t...     5.0   \n",
       "2           2  NEVER fly with scoot. I booked a ticket almost...     1.0   \n",
       "3           3  ✅ Trip Verified |  Melbourne to London return ...     3.0   \n",
       "4           4  MAD-DXB-SYD economy. A380 great seats B777 imp...     3.0   \n",
       "\n",
       "              airline  \n",
       "0  Southwest Airlines  \n",
       "1            Emirates  \n",
       "2               Scoot  \n",
       "3  Singapore Airlines  \n",
       "4            Emirates  "
      ]
     },
     "execution_count": 4,
     "metadata": {},
     "output_type": "execute_result"
    }
   ],
   "source": [
    "dataset.head()"
   ]
  },
  {
   "attachments": {},
   "cell_type": "markdown",
   "metadata": {},
   "source": [
    "## <strong><ins> EDA </ins></strong>\n",
    "We now conduct some exploratory analysis first to understand more about the dataet. "
   ]
  },
  {
   "cell_type": "code",
   "execution_count": 5,
   "metadata": {},
   "outputs": [
    {
     "name": "stdout",
     "output_type": "stream",
     "text": [
      "<class 'pandas.core.frame.DataFrame'>\n",
      "RangeIndex: 12209 entries, 0 to 12208\n",
      "Data columns (total 4 columns):\n",
      " #   Column      Non-Null Count  Dtype  \n",
      "---  ------      --------------  -----  \n",
      " 0   Unnamed: 0  12209 non-null  int64  \n",
      " 1   content     12209 non-null  object \n",
      " 2   rating      12207 non-null  float64\n",
      " 3   airline     12209 non-null  object \n",
      "dtypes: float64(1), int64(1), object(2)\n",
      "memory usage: 381.7+ KB\n"
     ]
    }
   ],
   "source": [
    "dataset.info()"
   ]
  },
  {
   "cell_type": "code",
   "execution_count": 6,
   "metadata": {},
   "outputs": [
    {
     "data": {
      "text/html": [
       "<div>\n",
       "<style scoped>\n",
       "    .dataframe tbody tr th:only-of-type {\n",
       "        vertical-align: middle;\n",
       "    }\n",
       "\n",
       "    .dataframe tbody tr th {\n",
       "        vertical-align: top;\n",
       "    }\n",
       "\n",
       "    .dataframe thead th {\n",
       "        text-align: right;\n",
       "    }\n",
       "</style>\n",
       "<table border=\"1\" class=\"dataframe\">\n",
       "  <thead>\n",
       "    <tr style=\"text-align: right;\">\n",
       "      <th></th>\n",
       "      <th>Unnamed: 0</th>\n",
       "      <th>content</th>\n",
       "      <th>rating</th>\n",
       "      <th>airline</th>\n",
       "    </tr>\n",
       "  </thead>\n",
       "  <tbody>\n",
       "    <tr>\n",
       "      <th>0</th>\n",
       "      <td>0</td>\n",
       "      <td>Southwest's Boarding Process has gotten comple...</td>\n",
       "      <td>3.0</td>\n",
       "      <td>Southwest Airlines</td>\n",
       "    </tr>\n",
       "    <tr>\n",
       "      <th>1</th>\n",
       "      <td>1</td>\n",
       "      <td>Flew Sydney to Auckland in January 2017 with t...</td>\n",
       "      <td>5.0</td>\n",
       "      <td>Emirates</td>\n",
       "    </tr>\n",
       "    <tr>\n",
       "      <th>2</th>\n",
       "      <td>2</td>\n",
       "      <td>NEVER fly with scoot. I booked a ticket almost...</td>\n",
       "      <td>1.0</td>\n",
       "      <td>Scoot</td>\n",
       "    </tr>\n",
       "    <tr>\n",
       "      <th>3</th>\n",
       "      <td>3</td>\n",
       "      <td>✅ Trip Verified |  Melbourne to London return ...</td>\n",
       "      <td>3.0</td>\n",
       "      <td>Singapore Airlines</td>\n",
       "    </tr>\n",
       "    <tr>\n",
       "      <th>4</th>\n",
       "      <td>4</td>\n",
       "      <td>MAD-DXB-SYD economy. A380 great seats B777 imp...</td>\n",
       "      <td>3.0</td>\n",
       "      <td>Emirates</td>\n",
       "    </tr>\n",
       "  </tbody>\n",
       "</table>\n",
       "</div>"
      ],
      "text/plain": [
       "   Unnamed: 0                                            content  rating  \\\n",
       "0           0  Southwest's Boarding Process has gotten comple...     3.0   \n",
       "1           1  Flew Sydney to Auckland in January 2017 with t...     5.0   \n",
       "2           2  NEVER fly with scoot. I booked a ticket almost...     1.0   \n",
       "3           3  ✅ Trip Verified |  Melbourne to London return ...     3.0   \n",
       "4           4  MAD-DXB-SYD economy. A380 great seats B777 imp...     3.0   \n",
       "\n",
       "              airline  \n",
       "0  Southwest Airlines  \n",
       "1            Emirates  \n",
       "2               Scoot  \n",
       "3  Singapore Airlines  \n",
       "4            Emirates  "
      ]
     },
     "execution_count": 6,
     "metadata": {},
     "output_type": "execute_result"
    }
   ],
   "source": [
    "dataset.head() "
   ]
  },
  {
   "cell_type": "code",
   "execution_count": 7,
   "metadata": {},
   "outputs": [
    {
     "name": "stderr",
     "output_type": "stream",
     "text": [
      "c:\\ProgramData\\anaconda3\\Lib\\site-packages\\seaborn\\_oldcore.py:1498: FutureWarning: is_categorical_dtype is deprecated and will be removed in a future version. Use isinstance(dtype, CategoricalDtype) instead\n",
      "  if pd.api.types.is_categorical_dtype(vector):\n",
      "c:\\ProgramData\\anaconda3\\Lib\\site-packages\\seaborn\\_oldcore.py:1498: FutureWarning: is_categorical_dtype is deprecated and will be removed in a future version. Use isinstance(dtype, CategoricalDtype) instead\n",
      "  if pd.api.types.is_categorical_dtype(vector):\n",
      "c:\\ProgramData\\anaconda3\\Lib\\site-packages\\seaborn\\_oldcore.py:1119: FutureWarning: use_inf_as_na option is deprecated and will be removed in a future version. Convert inf values to NaN before operating instead.\n",
      "  with pd.option_context('mode.use_inf_as_na', True):\n"
     ]
    },
    {
     "data": {
      "image/png": "[encoded data removed]",
      "text/plain": [
       "<Figure size 1200x600 with 1 Axes>"
      ]
     },
     "metadata": {},
     "output_type": "display_data"
    }
   ],
   "source": [
    "group=dataset.groupby(['airline']).count()\n",
    "plt.figure(figsize=(12, 6))  \n",
    "sns.histplot(dataset['airline'])\n",
    "plt.title('Distribution of Airlines in the Dataset')\n",
    "plt.show()"
   ]
  },
  {
   "attachments": {},
   "cell_type": "markdown",
   "metadata": {},
   "source": [
    "From the dataset above, we can observe that overall the dataset is rather balanced, however there are some airlines like southwest and scoot which are more skewed."
   ]
  },
  {
   "cell_type": "code",
   "execution_count": 8,
   "metadata": {},
   "outputs": [
    {
     "data": {
      "text/plain": [
       "Unnamed: 0    0\n",
       "content       0\n",
       "rating        2\n",
       "airline       0\n",
       "dtype: int64"
      ]
     },
     "execution_count": 8,
     "metadata": {},
     "output_type": "execute_result"
    }
   ],
   "source": [
    "dataset.isnull().sum()"
   ]
  },
  {
   "cell_type": "code",
   "execution_count": 9,
   "metadata": {},
   "outputs": [
    {
     "data": {
      "text/plain": [
       "0"
      ]
     },
     "execution_count": 9,
     "metadata": {},
     "output_type": "execute_result"
    }
   ],
   "source": [
    "dataset.duplicated().sum()"
   ]
  },
  {
   "attachments": {},
   "cell_type": "markdown",
   "metadata": {},
   "source": [
    "We can observe that there are some null values that needs to be removed"
   ]
  },
  {
   "attachments": {},
   "cell_type": "markdown",
   "metadata": {},
   "source": [
    "## <strong><ins>Preprocessing Text</strong></ins>\n",
    "We will now begin our preprocessing steps. We will first start by removing the null values. After we will create a series of functions to conduct datacleaning. To further streamline the process and package it such that it can be used for testing, we will use a data pipeline to assist us in doing so."
   ]
  },
  {
   "cell_type": "code",
   "execution_count": 10,
   "metadata": {},
   "outputs": [],
   "source": [
    "#remove null values\n",
    "dataset=dataset.dropna()"
   ]
  },
  {
   "attachments": {},
   "cell_type": "markdown",
   "metadata": {},
   "source": [
    "We will now create a series of functions for the data pipeline to assist in our fast and rapid cleaning of words: \n",
    "- **lowercase**: convert the text to lowercase and remove additional whitespaces\n",
    "- **filter_startwords**: remove starting words which are not relevant to the analysis such as trip verified or verified review\n",
    "- **remove_stopwords**: remove stopwords and additional stopwords that were observed during the modelling process\n",
    "- **remove_punctuation**: remove punctuations \n",
    "- **remove_others_lemmatise**: remove other additional words/characters that were not removed previously and lemmatisation of the word is conducted here to ensure standardisation."
   ]
  },
  {
   "cell_type": "code",
   "execution_count": 11,
   "metadata": {},
   "outputs": [],
   "source": [
    "#start off with converting to lowercase and remove any additional whitespaces\n",
    "def lowercase(text): \n",
    "    text=text.lower()\n",
    "    text=re.sub(r'\\s\\s+', ' ', text)\n",
    "    return text"
   ]
  },
  {
   "cell_type": "code",
   "execution_count": 12,
   "metadata": {},
   "outputs": [],
   "source": [
    "#remove starting words which are not relevant like trip verified/verified review \n",
    "def filter_startwords(text):\n",
    "    text=re.sub(r'([^a-zA-Z]+trip verified[^a-zA-Z]+)', '', text)\n",
    "    text=re.sub(r'([^a-zA-Z]+verified review[^a-zA-Z]+)', '', text)\n",
    "    return text"
   ]
  },
  {
   "cell_type": "code",
   "execution_count": 13,
   "metadata": {},
   "outputs": [],
   "source": [
    "def remove_stopwords(x): \n",
    "    stopwordss=stopwords.words('english')\n",
    "    stopwordss.extend(['would','u', 'not'])\n",
    "    words=word_tokenize(x)\n",
    "    text=[]\n",
    "    for word in words: \n",
    "        if word not in stopwordss: \n",
    "            text.append(word)\n",
    "    return ' '.join(text)"
   ]
  },
  {
   "cell_type": "code",
   "execution_count": 14,
   "metadata": {},
   "outputs": [],
   "source": [
    "import string\n",
    "def remove_punctuation(x):\n",
    "    punct=list(string.punctuation)\n",
    "    text=[]\n",
    "    words=word_tokenize(x)\n",
    "    for word in words: \n",
    "        if word not in punct: \n",
    "            text.append(word)\n",
    "    return ' '.join(text)"
   ]
  },
  {
   "cell_type": "code",
   "execution_count": 15,
   "metadata": {},
   "outputs": [],
   "source": [
    "def remove_others_lemmatise(x): \n",
    "    lemma=WordNetLemmatizer() #lemmatization\n",
    "    wordslist=['``', '`']\n",
    "    words=word_tokenize(x)\n",
    "    txt=[]\n",
    "    for word in words: \n",
    "        if word not in wordslist: \n",
    "            if word == \"n't\": \n",
    "                word='not'\n",
    "                txt.append(word)\n",
    "            else:\n",
    "                word=lemma.lemmatize(word)\n",
    "                txt.append(word)\n",
    "    return ' '.join(txt)"
   ]
  },
  {
   "attachments": {},
   "cell_type": "markdown",
   "metadata": {},
   "source": [
    "Once we are done creating the functions, we will activate the text preprocessing pipeline and then run the pipeline and will show the final text at the bottom. "
   ]
  },
  {
   "cell_type": "code",
   "execution_count": 16,
   "metadata": {},
   "outputs": [
    {
     "name": "stderr",
     "output_type": "stream",
     "text": [
      "  0%|          | 0/12207 [00:00<?, ?it/s]"
     ]
    },
    {
     "name": "stderr",
     "output_type": "stream",
     "text": [
      "100%|██████████| 12207/12207 [00:00<00:00, 35015.21it/s]\n",
      "100%|██████████| 12207/12207 [00:00<00:00, 14440.38it/s]\n",
      "100%|██████████| 12207/12207 [00:30<00:00, 398.97it/s]\n",
      "100%|██████████| 12207/12207 [00:19<00:00, 618.99it/s]\n",
      "100%|██████████| 12207/12207 [00:23<00:00, 521.83it/s]\n"
     ]
    }
   ],
   "source": [
    "tqdm.pandas()\n",
    "textpreprocessing_steps=Pipeline(steps=[\n",
    "    ('lowercase', FunctionTransformer(lambda x:x.progress_apply(lowercase))),\n",
    "    ('filer_start', FunctionTransformer(lambda x:x.progress_apply(filter_startwords))),\n",
    "    ('remove_stopwords', FunctionTransformer(lambda x:x.progress_apply(remove_stopwords))),\n",
    "    ('remove_punctuation', FunctionTransformer(lambda x:x.progress_apply(remove_punctuation))),\n",
    "    ('lemmatise', FunctionTransformer(lambda x:x.progress_apply(remove_others_lemmatise))),\n",
    "    ]\n",
    ")\n",
    "\n",
    "dataset['cleaned_text']=textpreprocessing_steps.fit_transform(dataset['content'])"
   ]
  },
  {
   "cell_type": "code",
   "execution_count": 17,
   "metadata": {},
   "outputs": [
    {
     "data": {
      "text/html": [
       "<div>\n",
       "<style scoped>\n",
       "    .dataframe tbody tr th:only-of-type {\n",
       "        vertical-align: middle;\n",
       "    }\n",
       "\n",
       "    .dataframe tbody tr th {\n",
       "        vertical-align: top;\n",
       "    }\n",
       "\n",
       "    .dataframe thead th {\n",
       "        text-align: right;\n",
       "    }\n",
       "</style>\n",
       "<table border=\"1\" class=\"dataframe\">\n",
       "  <thead>\n",
       "    <tr style=\"text-align: right;\">\n",
       "      <th></th>\n",
       "      <th>Unnamed: 0</th>\n",
       "      <th>content</th>\n",
       "      <th>rating</th>\n",
       "      <th>airline</th>\n",
       "      <th>cleaned_text</th>\n",
       "    </tr>\n",
       "  </thead>\n",
       "  <tbody>\n",
       "    <tr>\n",
       "      <th>0</th>\n",
       "      <td>0</td>\n",
       "      <td>Southwest's Boarding Process has gotten comple...</td>\n",
       "      <td>3.0</td>\n",
       "      <td>Southwest Airlines</td>\n",
       "      <td>southwest 's boarding process gotten completel...</td>\n",
       "    </tr>\n",
       "    <tr>\n",
       "      <th>1</th>\n",
       "      <td>1</td>\n",
       "      <td>Flew Sydney to Auckland in January 2017 with t...</td>\n",
       "      <td>5.0</td>\n",
       "      <td>Emirates</td>\n",
       "      <td>flew sydney auckland january 2017 wife break r...</td>\n",
       "    </tr>\n",
       "    <tr>\n",
       "      <th>2</th>\n",
       "      <td>2</td>\n",
       "      <td>NEVER fly with scoot. I booked a ticket almost...</td>\n",
       "      <td>1.0</td>\n",
       "      <td>Scoot</td>\n",
       "      <td>never fly scoot booked ticket almost 1.5 year ...</td>\n",
       "    </tr>\n",
       "    <tr>\n",
       "      <th>3</th>\n",
       "      <td>3</td>\n",
       "      <td>✅ Trip Verified |  Melbourne to London return ...</td>\n",
       "      <td>3.0</td>\n",
       "      <td>Singapore Airlines</td>\n",
       "      <td>melbourne london return via singapore a-350 me...</td>\n",
       "    </tr>\n",
       "    <tr>\n",
       "      <th>4</th>\n",
       "      <td>4</td>\n",
       "      <td>MAD-DXB-SYD economy. A380 great seats B777 imp...</td>\n",
       "      <td>3.0</td>\n",
       "      <td>Emirates</td>\n",
       "      <td>mad-dxb-syd economy a380 great seat b777 impos...</td>\n",
       "    </tr>\n",
       "  </tbody>\n",
       "</table>\n",
       "</div>"
      ],
      "text/plain": [
       "   Unnamed: 0                                            content  rating  \\\n",
       "0           0  Southwest's Boarding Process has gotten comple...     3.0   \n",
       "1           1  Flew Sydney to Auckland in January 2017 with t...     5.0   \n",
       "2           2  NEVER fly with scoot. I booked a ticket almost...     1.0   \n",
       "3           3  ✅ Trip Verified |  Melbourne to London return ...     3.0   \n",
       "4           4  MAD-DXB-SYD economy. A380 great seats B777 imp...     3.0   \n",
       "\n",
       "              airline                                       cleaned_text  \n",
       "0  Southwest Airlines  southwest 's boarding process gotten completel...  \n",
       "1            Emirates  flew sydney auckland january 2017 wife break r...  \n",
       "2               Scoot  never fly scoot booked ticket almost 1.5 year ...  \n",
       "3  Singapore Airlines  melbourne london return via singapore a-350 me...  \n",
       "4            Emirates  mad-dxb-syd economy a380 great seat b777 impos...  "
      ]
     },
     "execution_count": 17,
     "metadata": {},
     "output_type": "execute_result"
    }
   ],
   "source": [
    "dataset.head()"
   ]
  },
  {
   "attachments": {},
   "cell_type": "markdown",
   "metadata": {},
   "source": [
    "## <strong><ins>Feature Engineeering</strong></ins>\n",
    "With the cleaned text Besides rating, we can examine other features, which can be important.\n",
    "- **word_count**: word count of the reviews. To be used especially when filtering out the necessary reviews that will be more helpful in the dataset. \n",
    "- **char_count**: character count of the reviews. To be used especially when filtering out the necessary reviews that will be more helpful in the dataset. \n",
    "- **avg_word_length**: average word length. A longer word length is helpful when it shows that the user might have more expressions to say. \n",
    "- **sentiment_score**: using a third party library textblob to assess the sentiment polarity score. Polarity measures the degree of positivity or negativity in a text. It ranges from -1.0 (most negative) to 1.0 (most positive), with 0.0 indicating neutrality. This wouled show whether the text is more negative or positive. \n",
    "- **subjectivity_score**: using third party library textblob to assess the sentiment subjectivity score. Subjectivity measures how much the text is based on personal opinions, emotions, or judgments rather than factual information. It ranges from 0.0 (objective) to 1.0 (subjective). This is helpful in addressing the sentiments of the review and whether it is helpful or not. \n",
    "- **rating_category**: from the ratings - categorise it to 'positive', 'neutral', and 'negative'. This is very helpful when conducting classification. \n",
    "- **sentiment_agreement**: to investigate if the rating the user provided is similar to the sentiment score accessed by textblob. This is used to investigate sarcasm.\n",
    "- **rating_encoded**: we encode the rating_category, turning it into a more categorical variable. This will help when using this feature for text classification. "
   ]
  },
  {
   "attachments": {},
   "cell_type": "markdown",
   "metadata": {},
   "source": [
    "The function below is used to categorise the rating"
   ]
  },
  {
   "cell_type": "code",
   "execution_count": 18,
   "metadata": {},
   "outputs": [],
   "source": [
    "def categorize_rating(rating):\n",
    "    if rating <= 2:\n",
    "        return 'Negative'\n",
    "    elif rating == 3:\n",
    "        return 'Neutral'\n",
    "    else:\n",
    "        return 'Positive'"
   ]
  },
  {
   "attachments": {},
   "cell_type": "markdown",
   "metadata": {},
   "source": [
    "We now create a function to conduct all the changes before putting it into the pipeline to make it more streamlined and effective to run."
   ]
  },
  {
   "cell_type": "code",
   "execution_count": 19,
   "metadata": {},
   "outputs": [],
   "source": [
    "def feature_engineering(df): \n",
    "    df['word_count']=df['cleaned_text'].apply(lambda x:len(str(x).split()))\n",
    "    df['char_count']=df['cleaned_text'].apply(lambda x:len(x))\n",
    "    df['avg_word_length'] = df['char_count'] / (df['word_count'] + 1)  # Avoid division by zero\n",
    "    df['sentiment_score'] = df['cleaned_text'].apply(lambda x: TextBlob(x).sentiment.polarity)\n",
    "    df['subjectivity_score'] = df['cleaned_text'].apply(lambda x: TextBlob(x).sentiment.subjectivity)\n",
    "    df['rating_category'] = df['rating'].apply(categorize_rating)\n",
    "    df['sentiment_agreement'] = df.apply(lambda row: 1 if (row['sentiment_score'] > 0 and row['rating'] > 3) or\n",
    "                                                       (row['sentiment_score'] < 0 and row['rating'] <= 2) \n",
    "                                          else 0, axis=1)\n",
    "    return df"
   ]
  },
  {
   "attachments": {},
   "cell_type": "markdown",
   "metadata": {},
   "source": [
    "We now create a function to conduct label encoding. "
   ]
  },
  {
   "cell_type": "code",
   "execution_count": 20,
   "metadata": {},
   "outputs": [],
   "source": [
    "def label_encoding(df): \n",
    "    label_encoding=LabelEncoder()\n",
    "    df['rating_encoded']=label_encoding.fit_transform(df['rating_category'])\n",
    "    return df\n",
    "    "
   ]
  },
  {
   "attachments": {},
   "cell_type": "markdown",
   "metadata": {},
   "source": [
    "We now combine the functions to conduct the feature engineering pipepline, and then apply the pipeline on the dataset."
   ]
  },
  {
   "cell_type": "code",
   "execution_count": 21,
   "metadata": {},
   "outputs": [],
   "source": [
    "feature_engineering_pipeline = Pipeline(steps=[\n",
    "    ('feature_engineering', FunctionTransformer(feature_engineering)),\n",
    "    ('label_encoding_ratings', FunctionTransformer(label_encoding))\n",
    "])\n",
    "\n",
    "dataset=feature_engineering_pipeline.fit_transform(dataset)"
   ]
  },
  {
   "cell_type": "code",
   "execution_count": 22,
   "metadata": {},
   "outputs": [
    {
     "data": {
      "text/html": [
       "<div>\n",
       "<style scoped>\n",
       "    .dataframe tbody tr th:only-of-type {\n",
       "        vertical-align: middle;\n",
       "    }\n",
       "\n",
       "    .dataframe tbody tr th {\n",
       "        vertical-align: top;\n",
       "    }\n",
       "\n",
       "    .dataframe thead th {\n",
       "        text-align: right;\n",
       "    }\n",
       "</style>\n",
       "<table border=\"1\" class=\"dataframe\">\n",
       "  <thead>\n",
       "    <tr style=\"text-align: right;\">\n",
       "      <th></th>\n",
       "      <th>Unnamed: 0</th>\n",
       "      <th>content</th>\n",
       "      <th>rating</th>\n",
       "      <th>airline</th>\n",
       "      <th>cleaned_text</th>\n",
       "      <th>word_count</th>\n",
       "      <th>char_count</th>\n",
       "      <th>avg_word_length</th>\n",
       "      <th>sentiment_score</th>\n",
       "      <th>subjectivity_score</th>\n",
       "      <th>rating_category</th>\n",
       "      <th>sentiment_agreement</th>\n",
       "      <th>rating_encoded</th>\n",
       "    </tr>\n",
       "  </thead>\n",
       "  <tbody>\n",
       "    <tr>\n",
       "      <th>0</th>\n",
       "      <td>0</td>\n",
       "      <td>Southwest's Boarding Process has gotten comple...</td>\n",
       "      <td>3.0</td>\n",
       "      <td>Southwest Airlines</td>\n",
       "      <td>southwest 's boarding process gotten completel...</td>\n",
       "      <td>156</td>\n",
       "      <td>1106</td>\n",
       "      <td>7.044586</td>\n",
       "      <td>0.030208</td>\n",
       "      <td>0.351563</td>\n",
       "      <td>Neutral</td>\n",
       "      <td>0</td>\n",
       "      <td>1</td>\n",
       "    </tr>\n",
       "    <tr>\n",
       "      <th>1</th>\n",
       "      <td>1</td>\n",
       "      <td>Flew Sydney to Auckland in January 2017 with t...</td>\n",
       "      <td>5.0</td>\n",
       "      <td>Emirates</td>\n",
       "      <td>flew sydney auckland january 2017 wife break r...</td>\n",
       "      <td>119</td>\n",
       "      <td>826</td>\n",
       "      <td>6.883333</td>\n",
       "      <td>0.388095</td>\n",
       "      <td>0.580952</td>\n",
       "      <td>Positive</td>\n",
       "      <td>1</td>\n",
       "      <td>2</td>\n",
       "    </tr>\n",
       "    <tr>\n",
       "      <th>2</th>\n",
       "      <td>2</td>\n",
       "      <td>NEVER fly with scoot. I booked a ticket almost...</td>\n",
       "      <td>1.0</td>\n",
       "      <td>Scoot</td>\n",
       "      <td>never fly scoot booked ticket almost 1.5 year ...</td>\n",
       "      <td>96</td>\n",
       "      <td>600</td>\n",
       "      <td>6.185567</td>\n",
       "      <td>0.036364</td>\n",
       "      <td>0.486490</td>\n",
       "      <td>Negative</td>\n",
       "      <td>0</td>\n",
       "      <td>0</td>\n",
       "    </tr>\n",
       "    <tr>\n",
       "      <th>3</th>\n",
       "      <td>3</td>\n",
       "      <td>✅ Trip Verified |  Melbourne to London return ...</td>\n",
       "      <td>3.0</td>\n",
       "      <td>Singapore Airlines</td>\n",
       "      <td>melbourne london return via singapore a-350 me...</td>\n",
       "      <td>141</td>\n",
       "      <td>923</td>\n",
       "      <td>6.500000</td>\n",
       "      <td>0.279134</td>\n",
       "      <td>0.497489</td>\n",
       "      <td>Neutral</td>\n",
       "      <td>0</td>\n",
       "      <td>1</td>\n",
       "    </tr>\n",
       "    <tr>\n",
       "      <th>4</th>\n",
       "      <td>4</td>\n",
       "      <td>MAD-DXB-SYD economy. A380 great seats B777 imp...</td>\n",
       "      <td>3.0</td>\n",
       "      <td>Emirates</td>\n",
       "      <td>mad-dxb-syd economy a380 great seat b777 impos...</td>\n",
       "      <td>19</td>\n",
       "      <td>127</td>\n",
       "      <td>6.350000</td>\n",
       "      <td>-0.077778</td>\n",
       "      <td>0.758333</td>\n",
       "      <td>Neutral</td>\n",
       "      <td>0</td>\n",
       "      <td>1</td>\n",
       "    </tr>\n",
       "  </tbody>\n",
       "</table>\n",
       "</div>"
      ],
      "text/plain": [
       "   Unnamed: 0                                            content  rating  \\\n",
       "0           0  Southwest's Boarding Process has gotten comple...     3.0   \n",
       "1           1  Flew Sydney to Auckland in January 2017 with t...     5.0   \n",
       "2           2  NEVER fly with scoot. I booked a ticket almost...     1.0   \n",
       "3           3  ✅ Trip Verified |  Melbourne to London return ...     3.0   \n",
       "4           4  MAD-DXB-SYD economy. A380 great seats B777 imp...     3.0   \n",
       "\n",
       "              airline                                       cleaned_text  \\\n",
       "0  Southwest Airlines  southwest 's boarding process gotten completel...   \n",
       "1            Emirates  flew sydney auckland january 2017 wife break r...   \n",
       "2               Scoot  never fly scoot booked ticket almost 1.5 year ...   \n",
       "3  Singapore Airlines  melbourne london return via singapore a-350 me...   \n",
       "4            Emirates  mad-dxb-syd economy a380 great seat b777 impos...   \n",
       "\n",
       "   word_count  char_count  avg_word_length  sentiment_score  \\\n",
       "0         156        1106         7.044586         0.030208   \n",
       "1         119         826         6.883333         0.388095   \n",
       "2          96         600         6.185567         0.036364   \n",
       "3         141         923         6.500000         0.279134   \n",
       "4          19         127         6.350000        -0.077778   \n",
       "\n",
       "   subjectivity_score rating_category  sentiment_agreement  rating_encoded  \n",
       "0            0.351563         Neutral                    0               1  \n",
       "1            0.580952        Positive                    1               2  \n",
       "2            0.486490        Negative                    0               0  \n",
       "3            0.497489         Neutral                    0               1  \n",
       "4            0.758333         Neutral                    0               1  "
      ]
     },
     "execution_count": 22,
     "metadata": {},
     "output_type": "execute_result"
    }
   ],
   "source": [
    "dataset.head()"
   ]
  },
  {
   "attachments": {},
   "cell_type": "markdown",
   "metadata": {},
   "source": [
    "Lastly, to prevent vectorisation issues, I renamed the target column from 'airline' to 'airlines'"
   ]
  },
  {
   "cell_type": "code",
   "execution_count": 23,
   "metadata": {},
   "outputs": [],
   "source": [
    "dataset['airlines']=dataset['airline'] #rename"
   ]
  },
  {
   "attachments": {},
   "cell_type": "markdown",
   "metadata": {},
   "source": [
    "## <strong><ins>Save to machine </ins></strong>\n",
    "As the last step in this notebook, we will save the components of this dataset, including the clean data and the different pipelines, to the local machine for future usage in the next notebook that will be used for Text Classification. "
   ]
  },
  {
   "cell_type": "code",
   "execution_count": 24,
   "metadata": {},
   "outputs": [],
   "source": [
    "#save textpreprocessing\n",
    "with open('text_preprocessing.pkl', 'wb') as f:\n",
    "    dill.dump(textpreprocessing_steps, f)"
   ]
  },
  {
   "cell_type": "code",
   "execution_count": 25,
   "metadata": {},
   "outputs": [],
   "source": [
    "#save feature engineering\n",
    "with open('feature_engineering.pkl','wb') as f: \n",
    "    dill.dump(feature_engineering_pipeline,f)"
   ]
  },
  {
   "cell_type": "code",
   "execution_count": 26,
   "metadata": {},
   "outputs": [],
   "source": [
    "dataset.to_csv('cleaned_data.csv')"
   ]
  }
 ],
 "metadata": {
  "kernelspec": {
   "display_name": "base",
   "language": "python",
   "name": "python3"
  },
  "language_info": {
   "codemirror_mode": {
    "name": "ipython",
    "version": 3
   },
   "file_extension": ".py",
   "mimetype": "text/x-python",
   "name": "python",
   "nbconvert_exporter": "python",
   "pygments_lexer": "ipython3",
   "version": "3.11.7"
  }
 },
 "nbformat": 4,
 "nbformat_minor": 4
}
