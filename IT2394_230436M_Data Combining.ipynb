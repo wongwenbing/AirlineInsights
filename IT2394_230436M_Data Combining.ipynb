{
 "cells": [
  {
   "attachments": {},
   "cell_type": "markdown",
   "metadata": {},
   "source": [
    "# **IT2394 Text and Social Analytics Project**\n",
    "## ***Data Merging***\n",
    "*Documented and Done by Wong Wen Bing, 230436M* \n",
    "\n",
    "In this section of the noteboook, we will be combining and consolidating all the datasets that have been scraped into 1 dataset, which will then be split and used for feature engineering and model development. \n",
    "\n",
    "We have scraped from 3 websites: Airline Reviews, Airline Quality and TripAdvisor. With our necessary data that has been scraped, we are ready for the next step of our analysis. "
   ]
  },
  {
   "attachments": {},
   "cell_type": "markdown",
   "metadata": {},
   "source": [
    "### **Import Libraries**"
   ]
  },
  {
   "cell_type": "code",
   "execution_count": 27,
   "metadata": {},
   "outputs": [],
   "source": [
    "import pandas as pd\n",
    "import seaborn as sns\n",
    "import matplotlib.pyplot as plt\n",
    "import re"
   ]
  },
  {
   "attachments": {},
   "cell_type": "markdown",
   "metadata": {},
   "source": [
    "### **Import Datasets**"
   ]
  },
  {
   "attachments": {},
   "cell_type": "markdown",
   "metadata": {},
   "source": [
    "We now import brendon's dataset first, which he scraped from TripAdvisor. "
   ]
  },
  {
   "cell_type": "code",
   "execution_count": 28,
   "metadata": {},
   "outputs": [],
   "source": [
    "brendon=pd.read_csv('Brendon_Webscraped_reviews (1).csv')"
   ]
  },
  {
   "cell_type": "code",
   "execution_count": 29,
   "metadata": {},
   "outputs": [
    {
     "name": "stdout",
     "output_type": "stream",
     "text": [
      "<class 'pandas.core.frame.DataFrame'>\n",
      "RangeIndex: 1580 entries, 0 to 1579\n",
      "Data columns (total 4 columns):\n",
      " #   Column                 Non-Null Count  Dtype \n",
      "---  ------                 --------------  ----- \n",
      " 0   Airline Name           1580 non-null   object\n",
      " 1   Title                  1580 non-null   object\n",
      " 2   Airline Review Rating  1580 non-null   int64 \n",
      " 3   Airline Review         1580 non-null   object\n",
      "dtypes: int64(1), object(3)\n",
      "memory usage: 49.5+ KB\n"
     ]
    }
   ],
   "source": [
    "brendon.info()"
   ]
  },
  {
   "cell_type": "code",
   "execution_count": 30,
   "metadata": {},
   "outputs": [
    {
     "data": {
      "text/html": [
       "<div>\n",
       "<style scoped>\n",
       "    .dataframe tbody tr th:only-of-type {\n",
       "        vertical-align: middle;\n",
       "    }\n",
       "\n",
       "    .dataframe tbody tr th {\n",
       "        vertical-align: top;\n",
       "    }\n",
       "\n",
       "    .dataframe thead th {\n",
       "        text-align: right;\n",
       "    }\n",
       "</style>\n",
       "<table border=\"1\" class=\"dataframe\">\n",
       "  <thead>\n",
       "    <tr style=\"text-align: right;\">\n",
       "      <th></th>\n",
       "      <th>Airline Name</th>\n",
       "      <th>Title</th>\n",
       "      <th>Airline Review Rating</th>\n",
       "      <th>Airline Review</th>\n",
       "    </tr>\n",
       "  </thead>\n",
       "  <tbody>\n",
       "    <tr>\n",
       "      <th>0</th>\n",
       "      <td>British Airways</td>\n",
       "      <td>A new low for a FLIGHT service.</td>\n",
       "      <td>1</td>\n",
       "      <td>Went from Tahiti to Los Angeles, then made ano...</td>\n",
       "    </tr>\n",
       "    <tr>\n",
       "      <th>1</th>\n",
       "      <td>British Airways</td>\n",
       "      <td>Bumped off a flight in Ibiza</td>\n",
       "      <td>1</td>\n",
       "      <td>Bumped off a flight in Ibiza. Notification cam...</td>\n",
       "    </tr>\n",
       "    <tr>\n",
       "      <th>2</th>\n",
       "      <td>British Airways</td>\n",
       "      <td>I was on a flight from Singapore to…</td>\n",
       "      <td>2</td>\n",
       "      <td>I was on a flight from Singapore to London. I ...</td>\n",
       "    </tr>\n",
       "    <tr>\n",
       "      <th>3</th>\n",
       "      <td>British Airways</td>\n",
       "      <td>Make BA your second choice</td>\n",
       "      <td>1</td>\n",
       "      <td>My experience with British Airways was deeply ...</td>\n",
       "    </tr>\n",
       "    <tr>\n",
       "      <th>4</th>\n",
       "      <td>British Airways</td>\n",
       "      <td>What is happening to British Airways, our nati...</td>\n",
       "      <td>1</td>\n",
       "      <td>So many negative reviews!! And from me the com...</td>\n",
       "    </tr>\n",
       "  </tbody>\n",
       "</table>\n",
       "</div>"
      ],
      "text/plain": [
       "      Airline Name                                              Title  \\\n",
       "0  British Airways                    A new low for a FLIGHT service.   \n",
       "1  British Airways                       Bumped off a flight in Ibiza   \n",
       "2  British Airways               I was on a flight from Singapore to…   \n",
       "3  British Airways                         Make BA your second choice   \n",
       "4  British Airways  What is happening to British Airways, our nati...   \n",
       "\n",
       "   Airline Review Rating                                     Airline Review  \n",
       "0                      1  Went from Tahiti to Los Angeles, then made ano...  \n",
       "1                      1  Bumped off a flight in Ibiza. Notification cam...  \n",
       "2                      2  I was on a flight from Singapore to London. I ...  \n",
       "3                      1  My experience with British Airways was deeply ...  \n",
       "4                      1  So many negative reviews!! And from me the com...  "
      ]
     },
     "execution_count": 30,
     "metadata": {},
     "output_type": "execute_result"
    }
   ],
   "source": [
    "brendon.head()"
   ]
  },
  {
   "attachments": {},
   "cell_type": "markdown",
   "metadata": {},
   "source": [
    "We now import Jia Hao's dataset, which he scraped from <a href=\"https://www.airlineratings.com/airlines\">Airline Ratings</a>. "
   ]
  },
  {
   "cell_type": "code",
   "execution_count": 31,
   "metadata": {},
   "outputs": [],
   "source": [
    "jiahao=pd.read_csv('airline_reviews_bjh (1).csv')"
   ]
  },
  {
   "cell_type": "code",
   "execution_count": 32,
   "metadata": {},
   "outputs": [
    {
     "name": "stdout",
     "output_type": "stream",
     "text": [
      "<class 'pandas.core.frame.DataFrame'>\n",
      "RangeIndex: 1099 entries, 0 to 1098\n",
      "Data columns (total 6 columns):\n",
      " #   Column         Non-Null Count  Dtype  \n",
      "---  ------         --------------  -----  \n",
      " 0   Airline        1099 non-null   object \n",
      " 1   Rating         1099 non-null   object \n",
      " 2   Reviewer Name  1032 non-null   object \n",
      " 3   Date           1099 non-null   object \n",
      " 4   Seat Type      0 non-null      float64\n",
      " 5   Review Text    1099 non-null   object \n",
      "dtypes: float64(1), object(5)\n",
      "memory usage: 51.6+ KB\n"
     ]
    }
   ],
   "source": [
    "jiahao.info()"
   ]
  },
  {
   "cell_type": "code",
   "execution_count": 33,
   "metadata": {},
   "outputs": [
    {
     "data": {
      "text/html": [
       "<div>\n",
       "<style scoped>\n",
       "    .dataframe tbody tr th:only-of-type {\n",
       "        vertical-align: middle;\n",
       "    }\n",
       "\n",
       "    .dataframe tbody tr th {\n",
       "        vertical-align: top;\n",
       "    }\n",
       "\n",
       "    .dataframe thead th {\n",
       "        text-align: right;\n",
       "    }\n",
       "</style>\n",
       "<table border=\"1\" class=\"dataframe\">\n",
       "  <thead>\n",
       "    <tr style=\"text-align: right;\">\n",
       "      <th></th>\n",
       "      <th>Airline</th>\n",
       "      <th>Rating</th>\n",
       "      <th>Reviewer Name</th>\n",
       "      <th>Date</th>\n",
       "      <th>Seat Type</th>\n",
       "      <th>Review Text</th>\n",
       "    </tr>\n",
       "  </thead>\n",
       "  <tbody>\n",
       "    <tr>\n",
       "      <th>0</th>\n",
       "      <td>Singapore Airlines</td>\n",
       "      <td>8-Oct</td>\n",
       "      <td>Ariline Expert</td>\n",
       "      <td>30 March,</td>\n",
       "      <td>NaN</td>\n",
       "      <td>The BEST! Ohhhhhh YES! The BEST among the few ...</td>\n",
       "    </tr>\n",
       "    <tr>\n",
       "      <th>1</th>\n",
       "      <td>Singapore Airlines</td>\n",
       "      <td>10-Oct</td>\n",
       "      <td>ar</td>\n",
       "      <td>06 July,</td>\n",
       "      <td>NaN</td>\n",
       "      <td>Still the best of the best. Great food, in-fli...</td>\n",
       "    </tr>\n",
       "    <tr>\n",
       "      <th>2</th>\n",
       "      <td>Singapore Airlines</td>\n",
       "      <td>9-Oct</td>\n",
       "      <td>ar</td>\n",
       "      <td>16 January,</td>\n",
       "      <td>NaN</td>\n",
       "      <td>Good!</td>\n",
       "    </tr>\n",
       "    <tr>\n",
       "      <th>3</th>\n",
       "      <td>Singapore Airlines</td>\n",
       "      <td>7-Oct</td>\n",
       "      <td>ar</td>\n",
       "      <td>05 July,</td>\n",
       "      <td>NaN</td>\n",
       "      <td>Travelled London to Singapore on a 380. SIA ha...</td>\n",
       "    </tr>\n",
       "    <tr>\n",
       "      <th>4</th>\n",
       "      <td>Singapore Airlines</td>\n",
       "      <td>6-Oct</td>\n",
       "      <td>ar</td>\n",
       "      <td>14 April,</td>\n",
       "      <td>NaN</td>\n",
       "      <td>Bed was reasonably comfortable. Food was awful...</td>\n",
       "    </tr>\n",
       "  </tbody>\n",
       "</table>\n",
       "</div>"
      ],
      "text/plain": [
       "              Airline  Rating   Reviewer Name         Date  Seat Type  \\\n",
       "0  Singapore Airlines   8-Oct  Ariline Expert    30 March,        NaN   \n",
       "1  Singapore Airlines  10-Oct              ar     06 July,        NaN   \n",
       "2  Singapore Airlines   9-Oct              ar  16 January,        NaN   \n",
       "3  Singapore Airlines   7-Oct              ar     05 July,        NaN   \n",
       "4  Singapore Airlines   6-Oct              ar    14 April,        NaN   \n",
       "\n",
       "                                         Review Text  \n",
       "0  The BEST! Ohhhhhh YES! The BEST among the few ...  \n",
       "1  Still the best of the best. Great food, in-fli...  \n",
       "2                                              Good!  \n",
       "3  Travelled London to Singapore on a 380. SIA ha...  \n",
       "4  Bed was reasonably comfortable. Food was awful...  "
      ]
     },
     "execution_count": 33,
     "metadata": {},
     "output_type": "execute_result"
    }
   ],
   "source": [
    "jiahao.head()"
   ]
  },
  {
   "attachments": {},
   "cell_type": "markdown",
   "metadata": {},
   "source": [
    "Lastly, we import Wen Bing's dataset, where he scraped from Airline Reviews by Skytrax."
   ]
  },
  {
   "cell_type": "code",
   "execution_count": 34,
   "metadata": {},
   "outputs": [],
   "source": [
    "wenbing=pd.read_csv('wenbing_v3.csv')"
   ]
  },
  {
   "cell_type": "code",
   "execution_count": 35,
   "metadata": {},
   "outputs": [
    {
     "name": "stdout",
     "output_type": "stream",
     "text": [
      "<class 'pandas.core.frame.DataFrame'>\n",
      "RangeIndex: 10173 entries, 0 to 10172\n",
      "Data columns (total 6 columns):\n",
      " #   Column      Non-Null Count  Dtype  \n",
      "---  ------      --------------  -----  \n",
      " 0   Unnamed: 0  10173 non-null  int64  \n",
      " 1   title       10173 non-null  object \n",
      " 2   content     10173 non-null  object \n",
      " 3   category    10173 non-null  object \n",
      " 4   rating      10171 non-null  float64\n",
      " 5   airline     10173 non-null  object \n",
      "dtypes: float64(1), int64(1), object(4)\n",
      "memory usage: 477.0+ KB\n"
     ]
    }
   ],
   "source": [
    "wenbing.info()"
   ]
  },
  {
   "cell_type": "code",
   "execution_count": 36,
   "metadata": {},
   "outputs": [
    {
     "data": {
      "text/html": [
       "<div>\n",
       "<style scoped>\n",
       "    .dataframe tbody tr th:only-of-type {\n",
       "        vertical-align: middle;\n",
       "    }\n",
       "\n",
       "    .dataframe tbody tr th {\n",
       "        vertical-align: top;\n",
       "    }\n",
       "\n",
       "    .dataframe thead th {\n",
       "        text-align: right;\n",
       "    }\n",
       "</style>\n",
       "<table border=\"1\" class=\"dataframe\">\n",
       "  <thead>\n",
       "    <tr style=\"text-align: right;\">\n",
       "      <th></th>\n",
       "      <th>Unnamed: 0</th>\n",
       "      <th>title</th>\n",
       "      <th>content</th>\n",
       "      <th>category</th>\n",
       "      <th>rating</th>\n",
       "      <th>airline</th>\n",
       "    </tr>\n",
       "  </thead>\n",
       "  <tbody>\n",
       "    <tr>\n",
       "      <th>0</th>\n",
       "      <td>0</td>\n",
       "      <td>\"The product has changed\"</td>\n",
       "      <td>✅ Trip Verified |   My first time on SQ since ...</td>\n",
       "      <td>Recommended</td>\n",
       "      <td>5.0</td>\n",
       "      <td>Singapore Airlines</td>\n",
       "    </tr>\n",
       "    <tr>\n",
       "      <th>1</th>\n",
       "      <td>1</td>\n",
       "      <td>\"did everything to support me after that\"</td>\n",
       "      <td>✅ Trip Verified |   I want to acknowledge the ...</td>\n",
       "      <td>Recommended</td>\n",
       "      <td>4.0</td>\n",
       "      <td>Singapore Airlines</td>\n",
       "    </tr>\n",
       "    <tr>\n",
       "      <th>2</th>\n",
       "      <td>2</td>\n",
       "      <td>“Outstanding service”</td>\n",
       "      <td>✅ Trip Verified | Outstanding service from the...</td>\n",
       "      <td>Recommended</td>\n",
       "      <td>4.0</td>\n",
       "      <td>Singapore Airlines</td>\n",
       "    </tr>\n",
       "    <tr>\n",
       "      <th>3</th>\n",
       "      <td>3</td>\n",
       "      <td>\"prioritizing paid seat selection\"</td>\n",
       "      <td>✅ Trip Verified |   I took a SIA flight from S...</td>\n",
       "      <td>Recommended</td>\n",
       "      <td>3.0</td>\n",
       "      <td>Singapore Airlines</td>\n",
       "    </tr>\n",
       "    <tr>\n",
       "      <th>4</th>\n",
       "      <td>4</td>\n",
       "      <td>\"Perfect service from the cabin crew\"</td>\n",
       "      <td>✅ Trip Verified |   Perfect service from the c...</td>\n",
       "      <td>Recommended</td>\n",
       "      <td>3.0</td>\n",
       "      <td>Singapore Airlines</td>\n",
       "    </tr>\n",
       "  </tbody>\n",
       "</table>\n",
       "</div>"
      ],
      "text/plain": [
       "   Unnamed: 0                                      title  \\\n",
       "0           0                  \"The product has changed\"   \n",
       "1           1  \"did everything to support me after that\"   \n",
       "2           2                      “Outstanding service”   \n",
       "3           3         \"prioritizing paid seat selection\"   \n",
       "4           4      \"Perfect service from the cabin crew\"   \n",
       "\n",
       "                                             content     category  rating  \\\n",
       "0  ✅ Trip Verified |   My first time on SQ since ...  Recommended     5.0   \n",
       "1  ✅ Trip Verified |   I want to acknowledge the ...  Recommended     4.0   \n",
       "2  ✅ Trip Verified | Outstanding service from the...  Recommended     4.0   \n",
       "3  ✅ Trip Verified |   I took a SIA flight from S...  Recommended     3.0   \n",
       "4  ✅ Trip Verified |   Perfect service from the c...  Recommended     3.0   \n",
       "\n",
       "              airline  \n",
       "0  Singapore Airlines  \n",
       "1  Singapore Airlines  \n",
       "2  Singapore Airlines  \n",
       "3  Singapore Airlines  \n",
       "4  Singapore Airlines  "
      ]
     },
     "execution_count": 36,
     "metadata": {},
     "output_type": "execute_result"
    }
   ],
   "source": [
    "wenbing.head()"
   ]
  },
  {
   "attachments": {},
   "cell_type": "markdown",
   "metadata": {},
   "source": [
    "### **Data Transformation**\n",
    "We now need to do data transformation. We will now rename the columns to 'content', 'rating', and 'airline'. \n",
    "- 'content' will consist of the necessary text data\n",
    "- 'rating' will consist of the average rating given for the airline\n",
    "- 'airline' will consist of the target variables"
   ]
  },
  {
   "attachments": {},
   "cell_type": "markdown",
   "metadata": {},
   "source": [
    "We now do the data transformation for brendon's dataset. "
   ]
  },
  {
   "cell_type": "code",
   "execution_count": 37,
   "metadata": {},
   "outputs": [
    {
     "data": {
      "text/html": [
       "<div>\n",
       "<style scoped>\n",
       "    .dataframe tbody tr th:only-of-type {\n",
       "        vertical-align: middle;\n",
       "    }\n",
       "\n",
       "    .dataframe tbody tr th {\n",
       "        vertical-align: top;\n",
       "    }\n",
       "\n",
       "    .dataframe thead th {\n",
       "        text-align: right;\n",
       "    }\n",
       "</style>\n",
       "<table border=\"1\" class=\"dataframe\">\n",
       "  <thead>\n",
       "    <tr style=\"text-align: right;\">\n",
       "      <th></th>\n",
       "      <th>content</th>\n",
       "      <th>rating</th>\n",
       "      <th>airline</th>\n",
       "    </tr>\n",
       "  </thead>\n",
       "  <tbody>\n",
       "    <tr>\n",
       "      <th>0</th>\n",
       "      <td>Went from Tahiti to Los Angeles, then made ano...</td>\n",
       "      <td>1</td>\n",
       "      <td>British Airways</td>\n",
       "    </tr>\n",
       "    <tr>\n",
       "      <th>1</th>\n",
       "      <td>Bumped off a flight in Ibiza. Notification cam...</td>\n",
       "      <td>1</td>\n",
       "      <td>British Airways</td>\n",
       "    </tr>\n",
       "    <tr>\n",
       "      <th>2</th>\n",
       "      <td>I was on a flight from Singapore to London. I ...</td>\n",
       "      <td>2</td>\n",
       "      <td>British Airways</td>\n",
       "    </tr>\n",
       "    <tr>\n",
       "      <th>3</th>\n",
       "      <td>My experience with British Airways was deeply ...</td>\n",
       "      <td>1</td>\n",
       "      <td>British Airways</td>\n",
       "    </tr>\n",
       "    <tr>\n",
       "      <th>4</th>\n",
       "      <td>So many negative reviews!! And from me the com...</td>\n",
       "      <td>1</td>\n",
       "      <td>British Airways</td>\n",
       "    </tr>\n",
       "  </tbody>\n",
       "</table>\n",
       "</div>"
      ],
      "text/plain": [
       "                                             content  rating          airline\n",
       "0  Went from Tahiti to Los Angeles, then made ano...       1  British Airways\n",
       "1  Bumped off a flight in Ibiza. Notification cam...       1  British Airways\n",
       "2  I was on a flight from Singapore to London. I ...       2  British Airways\n",
       "3  My experience with British Airways was deeply ...       1  British Airways\n",
       "4  So many negative reviews!! And from me the com...       1  British Airways"
      ]
     },
     "execution_count": 37,
     "metadata": {},
     "output_type": "execute_result"
    }
   ],
   "source": [
    "bren=brendon[['Airline Review', 'Airline Review Rating', 'Airline Name']]\n",
    "bren=bren.rename(columns={\n",
    "'Airline Review':'content',\n",
    "'Airline Review Rating': 'rating',\n",
    "'Airline Name': 'airline'\n",
    "})\n",
    "bren.head()"
   ]
  },
  {
   "attachments": {},
   "cell_type": "markdown",
   "metadata": {},
   "source": [
    "We now do the data transformation for wen bing's dataset. "
   ]
  },
  {
   "cell_type": "code",
   "execution_count": 38,
   "metadata": {},
   "outputs": [
    {
     "data": {
      "text/html": [
       "<div>\n",
       "<style scoped>\n",
       "    .dataframe tbody tr th:only-of-type {\n",
       "        vertical-align: middle;\n",
       "    }\n",
       "\n",
       "    .dataframe tbody tr th {\n",
       "        vertical-align: top;\n",
       "    }\n",
       "\n",
       "    .dataframe thead th {\n",
       "        text-align: right;\n",
       "    }\n",
       "</style>\n",
       "<table border=\"1\" class=\"dataframe\">\n",
       "  <thead>\n",
       "    <tr style=\"text-align: right;\">\n",
       "      <th></th>\n",
       "      <th>content</th>\n",
       "      <th>rating</th>\n",
       "      <th>airline</th>\n",
       "    </tr>\n",
       "  </thead>\n",
       "  <tbody>\n",
       "    <tr>\n",
       "      <th>0</th>\n",
       "      <td>✅ Trip Verified |   My first time on SQ since ...</td>\n",
       "      <td>5.0</td>\n",
       "      <td>Singapore Airlines</td>\n",
       "    </tr>\n",
       "    <tr>\n",
       "      <th>1</th>\n",
       "      <td>✅ Trip Verified |   I want to acknowledge the ...</td>\n",
       "      <td>4.0</td>\n",
       "      <td>Singapore Airlines</td>\n",
       "    </tr>\n",
       "    <tr>\n",
       "      <th>2</th>\n",
       "      <td>✅ Trip Verified | Outstanding service from the...</td>\n",
       "      <td>4.0</td>\n",
       "      <td>Singapore Airlines</td>\n",
       "    </tr>\n",
       "    <tr>\n",
       "      <th>3</th>\n",
       "      <td>✅ Trip Verified |   I took a SIA flight from S...</td>\n",
       "      <td>3.0</td>\n",
       "      <td>Singapore Airlines</td>\n",
       "    </tr>\n",
       "    <tr>\n",
       "      <th>4</th>\n",
       "      <td>✅ Trip Verified |   Perfect service from the c...</td>\n",
       "      <td>3.0</td>\n",
       "      <td>Singapore Airlines</td>\n",
       "    </tr>\n",
       "  </tbody>\n",
       "</table>\n",
       "</div>"
      ],
      "text/plain": [
       "                                             content  rating  \\\n",
       "0  ✅ Trip Verified |   My first time on SQ since ...     5.0   \n",
       "1  ✅ Trip Verified |   I want to acknowledge the ...     4.0   \n",
       "2  ✅ Trip Verified | Outstanding service from the...     4.0   \n",
       "3  ✅ Trip Verified |   I took a SIA flight from S...     3.0   \n",
       "4  ✅ Trip Verified |   Perfect service from the c...     3.0   \n",
       "\n",
       "              airline  \n",
       "0  Singapore Airlines  \n",
       "1  Singapore Airlines  \n",
       "2  Singapore Airlines  \n",
       "3  Singapore Airlines  \n",
       "4  Singapore Airlines  "
      ]
     },
     "execution_count": 38,
     "metadata": {},
     "output_type": "execute_result"
    }
   ],
   "source": [
    "wb=wenbing[['content','rating','airline']]\n",
    "wb.head()"
   ]
  },
  {
   "attachments": {},
   "cell_type": "markdown",
   "metadata": {},
   "source": [
    "We now do the data transformation for jiahao's dataset. "
   ]
  },
  {
   "cell_type": "code",
   "execution_count": 39,
   "metadata": {},
   "outputs": [
    {
     "data": {
      "text/html": [
       "<div>\n",
       "<style scoped>\n",
       "    .dataframe tbody tr th:only-of-type {\n",
       "        vertical-align: middle;\n",
       "    }\n",
       "\n",
       "    .dataframe tbody tr th {\n",
       "        vertical-align: top;\n",
       "    }\n",
       "\n",
       "    .dataframe thead th {\n",
       "        text-align: right;\n",
       "    }\n",
       "</style>\n",
       "<table border=\"1\" class=\"dataframe\">\n",
       "  <thead>\n",
       "    <tr style=\"text-align: right;\">\n",
       "      <th></th>\n",
       "      <th>content</th>\n",
       "      <th>rating</th>\n",
       "      <th>airline</th>\n",
       "    </tr>\n",
       "  </thead>\n",
       "  <tbody>\n",
       "    <tr>\n",
       "      <th>0</th>\n",
       "      <td>The BEST! Ohhhhhh YES! The BEST among the few ...</td>\n",
       "      <td>8-Oct</td>\n",
       "      <td>Singapore Airlines</td>\n",
       "    </tr>\n",
       "    <tr>\n",
       "      <th>1</th>\n",
       "      <td>Still the best of the best. Great food, in-fli...</td>\n",
       "      <td>10-Oct</td>\n",
       "      <td>Singapore Airlines</td>\n",
       "    </tr>\n",
       "    <tr>\n",
       "      <th>2</th>\n",
       "      <td>Good!</td>\n",
       "      <td>9-Oct</td>\n",
       "      <td>Singapore Airlines</td>\n",
       "    </tr>\n",
       "    <tr>\n",
       "      <th>3</th>\n",
       "      <td>Travelled London to Singapore on a 380. SIA ha...</td>\n",
       "      <td>7-Oct</td>\n",
       "      <td>Singapore Airlines</td>\n",
       "    </tr>\n",
       "    <tr>\n",
       "      <th>4</th>\n",
       "      <td>Bed was reasonably comfortable. Food was awful...</td>\n",
       "      <td>6-Oct</td>\n",
       "      <td>Singapore Airlines</td>\n",
       "    </tr>\n",
       "  </tbody>\n",
       "</table>\n",
       "</div>"
      ],
      "text/plain": [
       "                                             content  rating  \\\n",
       "0  The BEST! Ohhhhhh YES! The BEST among the few ...   8-Oct   \n",
       "1  Still the best of the best. Great food, in-fli...  10-Oct   \n",
       "2                                              Good!   9-Oct   \n",
       "3  Travelled London to Singapore on a 380. SIA ha...   7-Oct   \n",
       "4  Bed was reasonably comfortable. Food was awful...   6-Oct   \n",
       "\n",
       "              airline  \n",
       "0  Singapore Airlines  \n",
       "1  Singapore Airlines  \n",
       "2  Singapore Airlines  \n",
       "3  Singapore Airlines  \n",
       "4  Singapore Airlines  "
      ]
     },
     "execution_count": 39,
     "metadata": {},
     "output_type": "execute_result"
    }
   ],
   "source": [
    "jh=jiahao[['Review Text', 'Rating','Airline']]\n",
    "jh=jh.rename(columns={\n",
    "'Review Text':'content',\n",
    "'Rating':'rating',\n",
    "'Airline':'airline'\n",
    "})\n",
    "jh.head()"
   ]
  },
  {
   "cell_type": "code",
   "execution_count": 40,
   "metadata": {},
   "outputs": [
    {
     "data": {
      "text/html": [
       "<div>\n",
       "<style scoped>\n",
       "    .dataframe tbody tr th:only-of-type {\n",
       "        vertical-align: middle;\n",
       "    }\n",
       "\n",
       "    .dataframe tbody tr th {\n",
       "        vertical-align: top;\n",
       "    }\n",
       "\n",
       "    .dataframe thead th {\n",
       "        text-align: right;\n",
       "    }\n",
       "</style>\n",
       "<table border=\"1\" class=\"dataframe\">\n",
       "  <thead>\n",
       "    <tr style=\"text-align: right;\">\n",
       "      <th></th>\n",
       "      <th>content</th>\n",
       "      <th>rating</th>\n",
       "      <th>airline</th>\n",
       "    </tr>\n",
       "  </thead>\n",
       "  <tbody>\n",
       "    <tr>\n",
       "      <th>0</th>\n",
       "      <td>The BEST! Ohhhhhh YES! The BEST among the few ...</td>\n",
       "      <td>4.0</td>\n",
       "      <td>Singapore Airlines</td>\n",
       "    </tr>\n",
       "    <tr>\n",
       "      <th>1</th>\n",
       "      <td>Still the best of the best. Great food, in-fli...</td>\n",
       "      <td>5.0</td>\n",
       "      <td>Singapore Airlines</td>\n",
       "    </tr>\n",
       "    <tr>\n",
       "      <th>2</th>\n",
       "      <td>Good!</td>\n",
       "      <td>4.5</td>\n",
       "      <td>Singapore Airlines</td>\n",
       "    </tr>\n",
       "    <tr>\n",
       "      <th>3</th>\n",
       "      <td>Travelled London to Singapore on a 380. SIA ha...</td>\n",
       "      <td>3.5</td>\n",
       "      <td>Singapore Airlines</td>\n",
       "    </tr>\n",
       "    <tr>\n",
       "      <th>4</th>\n",
       "      <td>Bed was reasonably comfortable. Food was awful...</td>\n",
       "      <td>3.0</td>\n",
       "      <td>Singapore Airlines</td>\n",
       "    </tr>\n",
       "  </tbody>\n",
       "</table>\n",
       "</div>"
      ],
      "text/plain": [
       "                                             content  rating  \\\n",
       "0  The BEST! Ohhhhhh YES! The BEST among the few ...     4.0   \n",
       "1  Still the best of the best. Great food, in-fli...     5.0   \n",
       "2                                              Good!     4.5   \n",
       "3  Travelled London to Singapore on a 380. SIA ha...     3.5   \n",
       "4  Bed was reasonably comfortable. Food was awful...     3.0   \n",
       "\n",
       "              airline  \n",
       "0  Singapore Airlines  \n",
       "1  Singapore Airlines  \n",
       "2  Singapore Airlines  \n",
       "3  Singapore Airlines  \n",
       "4  Singapore Airlines  "
      ]
     },
     "execution_count": 40,
     "metadata": {},
     "output_type": "execute_result"
    }
   ],
   "source": [
    "def num(x): \n",
    "    x=re.search(r'\\d+',x).group()\n",
    "    x=int(x)/2\n",
    "    return x\n",
    "\n",
    "jh['rating']=jh['rating'].apply(lambda x: num(x))\n",
    "jh.head()"
   ]
  },
  {
   "attachments": {},
   "cell_type": "markdown",
   "metadata": {},
   "source": [
    "### **Data Combining** \n",
    "We now combine the datasets. "
   ]
  },
  {
   "cell_type": "code",
   "execution_count": 41,
   "metadata": {},
   "outputs": [],
   "source": [
    "combined=pd.concat([wb,jh,bren])"
   ]
  },
  {
   "cell_type": "code",
   "execution_count": 42,
   "metadata": {},
   "outputs": [
    {
     "name": "stdout",
     "output_type": "stream",
     "text": [
      "<class 'pandas.core.frame.DataFrame'>\n",
      "Index: 12852 entries, 0 to 1579\n",
      "Data columns (total 3 columns):\n",
      " #   Column   Non-Null Count  Dtype  \n",
      "---  ------   --------------  -----  \n",
      " 0   content  12852 non-null  object \n",
      " 1   rating   12850 non-null  float64\n",
      " 2   airline  12852 non-null  object \n",
      "dtypes: float64(1), object(2)\n",
      "memory usage: 401.6+ KB\n"
     ]
    }
   ],
   "source": [
    "combined.info()"
   ]
  },
  {
   "cell_type": "code",
   "execution_count": 43,
   "metadata": {},
   "outputs": [
    {
     "data": {
      "image/png": "[encoded data removed]",
      "text/plain": [
       "<Figure size 1200x600 with 1 Axes>"
      ]
     },
     "metadata": {},
     "output_type": "display_data"
    }
   ],
   "source": [
    "group=combined.groupby(['airline']).count()\n",
    "plt.figure(figsize=(12, 6))  \n",
    "sns.histplot(combined['airline'])\n",
    "plt.title('Distribution of Airlines in the Dataset')\n",
    "plt.show()"
   ]
  },
  {
   "cell_type": "code",
   "execution_count": 44,
   "metadata": {},
   "outputs": [
    {
     "data": {
      "text/html": [
       "<div>\n",
       "<style scoped>\n",
       "    .dataframe tbody tr th:only-of-type {\n",
       "        vertical-align: middle;\n",
       "    }\n",
       "\n",
       "    .dataframe tbody tr th {\n",
       "        vertical-align: top;\n",
       "    }\n",
       "\n",
       "    .dataframe thead th {\n",
       "        text-align: right;\n",
       "    }\n",
       "</style>\n",
       "<table border=\"1\" class=\"dataframe\">\n",
       "  <thead>\n",
       "    <tr style=\"text-align: right;\">\n",
       "      <th></th>\n",
       "      <th>content</th>\n",
       "      <th>rating</th>\n",
       "      <th>airline</th>\n",
       "    </tr>\n",
       "  </thead>\n",
       "  <tbody>\n",
       "    <tr>\n",
       "      <th>0</th>\n",
       "      <td>✅ Trip Verified |   My first time on SQ since ...</td>\n",
       "      <td>5.0</td>\n",
       "      <td>Singapore Airlines</td>\n",
       "    </tr>\n",
       "    <tr>\n",
       "      <th>1</th>\n",
       "      <td>✅ Trip Verified |   I want to acknowledge the ...</td>\n",
       "      <td>4.0</td>\n",
       "      <td>Singapore Airlines</td>\n",
       "    </tr>\n",
       "    <tr>\n",
       "      <th>2</th>\n",
       "      <td>✅ Trip Verified | Outstanding service from the...</td>\n",
       "      <td>4.0</td>\n",
       "      <td>Singapore Airlines</td>\n",
       "    </tr>\n",
       "    <tr>\n",
       "      <th>3</th>\n",
       "      <td>✅ Trip Verified |   I took a SIA flight from S...</td>\n",
       "      <td>3.0</td>\n",
       "      <td>Singapore Airlines</td>\n",
       "    </tr>\n",
       "    <tr>\n",
       "      <th>4</th>\n",
       "      <td>✅ Trip Verified |   Perfect service from the c...</td>\n",
       "      <td>3.0</td>\n",
       "      <td>Singapore Airlines</td>\n",
       "    </tr>\n",
       "  </tbody>\n",
       "</table>\n",
       "</div>"
      ],
      "text/plain": [
       "                                             content  rating  \\\n",
       "0  ✅ Trip Verified |   My first time on SQ since ...     5.0   \n",
       "1  ✅ Trip Verified |   I want to acknowledge the ...     4.0   \n",
       "2  ✅ Trip Verified | Outstanding service from the...     4.0   \n",
       "3  ✅ Trip Verified |   I took a SIA flight from S...     3.0   \n",
       "4  ✅ Trip Verified |   Perfect service from the c...     3.0   \n",
       "\n",
       "              airline  \n",
       "0  Singapore Airlines  \n",
       "1  Singapore Airlines  \n",
       "2  Singapore Airlines  \n",
       "3  Singapore Airlines  \n",
       "4  Singapore Airlines  "
      ]
     },
     "execution_count": 44,
     "metadata": {},
     "output_type": "execute_result"
    }
   ],
   "source": [
    "combined.head()"
   ]
  },
  {
   "cell_type": "code",
   "execution_count": 45,
   "metadata": {},
   "outputs": [
    {
     "data": {
      "image/png": "[encoded data removed]",
      "text/plain": [
       "<Figure size 1200x600 with 1 Axes>"
      ]
     },
     "metadata": {},
     "output_type": "display_data"
    }
   ],
   "source": [
    "group=combined.groupby(['rating']).count()\n",
    "plt.figure(figsize=(12, 6))  \n",
    "sns.histplot(combined['rating'])\n",
    "plt.title('Distribution of Airlines in the Dataset')\n",
    "plt.show()"
   ]
  },
  {
   "cell_type": "code",
   "execution_count": 46,
   "metadata": {},
   "outputs": [],
   "source": [
    "from sklearn.model_selection import train_test_split\n",
    "train,test=train_test_split(combined,test_size=0.05, random_state=40)\n",
    "train=train.reset_index()\n",
    "train=train[['content','rating', 'airline']]\n",
    "test=test.reset_index()\n",
    "test=test[['content','rating', 'airline']]"
   ]
  },
  {
   "cell_type": "code",
   "execution_count": 47,
   "metadata": {},
   "outputs": [
    {
     "data": {
      "text/html": [
       "<div>\n",
       "<style scoped>\n",
       "    .dataframe tbody tr th:only-of-type {\n",
       "        vertical-align: middle;\n",
       "    }\n",
       "\n",
       "    .dataframe tbody tr th {\n",
       "        vertical-align: top;\n",
       "    }\n",
       "\n",
       "    .dataframe thead th {\n",
       "        text-align: right;\n",
       "    }\n",
       "</style>\n",
       "<table border=\"1\" class=\"dataframe\">\n",
       "  <thead>\n",
       "    <tr style=\"text-align: right;\">\n",
       "      <th></th>\n",
       "      <th>content</th>\n",
       "      <th>rating</th>\n",
       "      <th>airline</th>\n",
       "    </tr>\n",
       "  </thead>\n",
       "  <tbody>\n",
       "    <tr>\n",
       "      <th>0</th>\n",
       "      <td>Southwest's Boarding Process has gotten comple...</td>\n",
       "      <td>3.0</td>\n",
       "      <td>Southwest Airlines</td>\n",
       "    </tr>\n",
       "    <tr>\n",
       "      <th>1</th>\n",
       "      <td>Flew Sydney to Auckland in January 2017 with t...</td>\n",
       "      <td>5.0</td>\n",
       "      <td>Emirates</td>\n",
       "    </tr>\n",
       "    <tr>\n",
       "      <th>2</th>\n",
       "      <td>NEVER fly with scoot. I booked a ticket almost...</td>\n",
       "      <td>1.0</td>\n",
       "      <td>Scoot</td>\n",
       "    </tr>\n",
       "    <tr>\n",
       "      <th>3</th>\n",
       "      <td>✅ Trip Verified |  Melbourne to London return ...</td>\n",
       "      <td>3.0</td>\n",
       "      <td>Singapore Airlines</td>\n",
       "    </tr>\n",
       "    <tr>\n",
       "      <th>4</th>\n",
       "      <td>MAD-DXB-SYD economy. A380 great seats B777 imp...</td>\n",
       "      <td>3.0</td>\n",
       "      <td>Emirates</td>\n",
       "    </tr>\n",
       "  </tbody>\n",
       "</table>\n",
       "</div>"
      ],
      "text/plain": [
       "                                             content  rating  \\\n",
       "0  Southwest's Boarding Process has gotten comple...     3.0   \n",
       "1  Flew Sydney to Auckland in January 2017 with t...     5.0   \n",
       "2  NEVER fly with scoot. I booked a ticket almost...     1.0   \n",
       "3  ✅ Trip Verified |  Melbourne to London return ...     3.0   \n",
       "4  MAD-DXB-SYD economy. A380 great seats B777 imp...     3.0   \n",
       "\n",
       "              airline  \n",
       "0  Southwest Airlines  \n",
       "1            Emirates  \n",
       "2               Scoot  \n",
       "3  Singapore Airlines  \n",
       "4            Emirates  "
      ]
     },
     "execution_count": 47,
     "metadata": {},
     "output_type": "execute_result"
    }
   ],
   "source": [
    "train.head()"
   ]
  },
  {
   "cell_type": "code",
   "execution_count": 48,
   "metadata": {},
   "outputs": [
    {
     "data": {
      "text/html": [
       "<div>\n",
       "<style scoped>\n",
       "    .dataframe tbody tr th:only-of-type {\n",
       "        vertical-align: middle;\n",
       "    }\n",
       "\n",
       "    .dataframe tbody tr th {\n",
       "        vertical-align: top;\n",
       "    }\n",
       "\n",
       "    .dataframe thead th {\n",
       "        text-align: right;\n",
       "    }\n",
       "</style>\n",
       "<table border=\"1\" class=\"dataframe\">\n",
       "  <thead>\n",
       "    <tr style=\"text-align: right;\">\n",
       "      <th></th>\n",
       "      <th>content</th>\n",
       "      <th>rating</th>\n",
       "      <th>airline</th>\n",
       "    </tr>\n",
       "  </thead>\n",
       "  <tbody>\n",
       "    <tr>\n",
       "      <th>0</th>\n",
       "      <td>Not Verified |  We travelled on Singapore Airl...</td>\n",
       "      <td>3.0</td>\n",
       "      <td>Singapore Airlines</td>\n",
       "    </tr>\n",
       "    <tr>\n",
       "      <th>1</th>\n",
       "      <td>Service was good out of PBI plane looked a lit...</td>\n",
       "      <td>4.0</td>\n",
       "      <td>Southwest Airlines</td>\n",
       "    </tr>\n",
       "    <tr>\n",
       "      <th>2</th>\n",
       "      <td>Appalling. Delayed then left us stranded witho...</td>\n",
       "      <td>1.0</td>\n",
       "      <td>Scoot</td>\n",
       "    </tr>\n",
       "    <tr>\n",
       "      <th>3</th>\n",
       "      <td>EK 772 CPT to DXB. Flight was on a Boeing 777-...</td>\n",
       "      <td>5.0</td>\n",
       "      <td>Emirates</td>\n",
       "    </tr>\n",
       "    <tr>\n",
       "      <th>4</th>\n",
       "      <td>I booked a fairly priced return ticket between...</td>\n",
       "      <td>2.0</td>\n",
       "      <td>Ryanair</td>\n",
       "    </tr>\n",
       "  </tbody>\n",
       "</table>\n",
       "</div>"
      ],
      "text/plain": [
       "                                             content  rating  \\\n",
       "0  Not Verified |  We travelled on Singapore Airl...     3.0   \n",
       "1  Service was good out of PBI plane looked a lit...     4.0   \n",
       "2  Appalling. Delayed then left us stranded witho...     1.0   \n",
       "3  EK 772 CPT to DXB. Flight was on a Boeing 777-...     5.0   \n",
       "4  I booked a fairly priced return ticket between...     2.0   \n",
       "\n",
       "              airline  \n",
       "0  Singapore Airlines  \n",
       "1  Southwest Airlines  \n",
       "2               Scoot  \n",
       "3            Emirates  \n",
       "4             Ryanair  "
      ]
     },
     "execution_count": 48,
     "metadata": {},
     "output_type": "execute_result"
    }
   ],
   "source": [
    "test.head()"
   ]
  },
  {
   "cell_type": "code",
   "execution_count": 49,
   "metadata": {},
   "outputs": [
    {
     "name": "stdout",
     "output_type": "stream",
     "text": [
      "<class 'pandas.core.frame.DataFrame'>\n",
      "RangeIndex: 12209 entries, 0 to 12208\n",
      "Data columns (total 3 columns):\n",
      " #   Column   Non-Null Count  Dtype  \n",
      "---  ------   --------------  -----  \n",
      " 0   content  12209 non-null  object \n",
      " 1   rating   12207 non-null  float64\n",
      " 2   airline  12209 non-null  object \n",
      "dtypes: float64(1), object(2)\n",
      "memory usage: 286.3+ KB\n"
     ]
    }
   ],
   "source": [
    "train.info()"
   ]
  },
  {
   "cell_type": "code",
   "execution_count": 50,
   "metadata": {},
   "outputs": [
    {
     "name": "stdout",
     "output_type": "stream",
     "text": [
      "<class 'pandas.core.frame.DataFrame'>\n",
      "RangeIndex: 643 entries, 0 to 642\n",
      "Data columns (total 3 columns):\n",
      " #   Column   Non-Null Count  Dtype  \n",
      "---  ------   --------------  -----  \n",
      " 0   content  643 non-null    object \n",
      " 1   rating   643 non-null    float64\n",
      " 2   airline  643 non-null    object \n",
      "dtypes: float64(1), object(2)\n",
      "memory usage: 15.2+ KB\n"
     ]
    }
   ],
   "source": [
    "test.info()"
   ]
  },
  {
   "cell_type": "code",
   "execution_count": 51,
   "metadata": {},
   "outputs": [],
   "source": [
    "train.to_csv('train_set.csv')"
   ]
  },
  {
   "cell_type": "code",
   "execution_count": 52,
   "metadata": {},
   "outputs": [],
   "source": [
    "test.to_csv('test_set.csv')"
   ]
  }
 ],
 "metadata": {
  "kernelspec": {
   "display_name": "base",
   "language": "python",
   "name": "python3"
  },
  "language_info": {
   "codemirror_mode": {
    "name": "ipython",
    "version": 3
   },
   "file_extension": ".py",
   "mimetype": "text/x-python",
   "name": "python",
   "nbconvert_exporter": "python",
   "pygments_lexer": "ipython3",
   "version": "3.11.0"
  },
  "orig_nbformat": 4
 },
 "nbformat": 4,
 "nbformat_minor": 2
}
